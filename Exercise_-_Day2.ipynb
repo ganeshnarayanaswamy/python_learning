{
 "cells": [
  {
   "cell_type": "code",
   "execution_count": null,
   "metadata": {},
   "outputs": [],
   "source": []
  },
  {
   "cell_type": "markdown",
   "metadata": {},
   "source": [
    "### The questions for the exercises are given above the cells and the expected output is given below the cell. Please type the code inserting a new cell below the question because if you run the expected output cell the output would vanish! Happy learning! "
   ]
  },
  {
   "cell_type": "markdown",
   "metadata": {},
   "source": [
    "## 1. Write a Python program to find those numbers which are divisible by 7 and multiple of 5, between 1500 and 2700 (both included). "
   ]
  },
  {
   "cell_type": "code",
   "execution_count": 63,
   "metadata": {},
   "outputs": [
    {
     "name": "stdout",
     "output_type": "stream",
     "text": [
      "1505,1540,1575,1610,1645,1680,1715,1750,1785,1820,1855,1890,1925,1960,1995,2030,2065,2100,2135,2170,2205,2240,2275,2310,2345,2380,2415,2450,2485,2520,2555,2590,2625,2660,2695\n"
     ]
    }
   ],
   "source": [
    "nl=[]\n",
    "for i in range (1500,2700):\n",
    "    if( (i%7 == 0) & (i%5 == 0) ):\n",
    "        nl.append(str(i))\n",
    "print(','.join(nl))\n",
    "    "
   ]
  },
  {
   "cell_type": "code",
   "execution_count": null,
   "metadata": {},
   "outputs": [],
   "source": []
  },
  {
   "cell_type": "markdown",
   "metadata": {},
   "source": [
    "## 2. Write a Python program to construct the following pattern, using a nested for loop.\n"
   ]
  },
  {
   "cell_type": "code",
   "execution_count": 2,
   "metadata": {},
   "outputs": [
    {
     "name": "stdout",
     "output_type": "stream",
     "text": [
      "* \n",
      "* * \n",
      "* * * \n",
      "* * * * \n",
      "* * * * * \n",
      "* * * * \n",
      "* * * \n",
      "* * \n",
      "* \n"
     ]
    }
   ],
   "source": [
    "for i in range (1,5):\n",
    "    for j in range (i):\n",
    "        print('* ',end=\"\")\n",
    "    print('')\n",
    "for i in range(5,0,-1):\n",
    "    for j in range (i):\n",
    "        print('* ',end=\"\")\n",
    "    print('')               \n",
    "        "
   ]
  },
  {
   "cell_type": "markdown",
   "metadata": {},
   "source": [
    "## 3. Write a Python program to count the number of even and odd numbers from a series of numbers."
   ]
  },
  {
   "cell_type": "code",
   "execution_count": 15,
   "metadata": {},
   "outputs": [
    {
     "name": "stdout",
     "output_type": "stream",
     "text": [
      "number of even numbers in list :  4\n",
      "number of even numbers in list :  5\n"
     ]
    }
   ],
   "source": [
    "lst=[1,2,3,4,5,6,7,8,9]\n",
    "counter_odd=0\n",
    "counter_even=0\n",
    "for i in range(0,len(lst)):\n",
    "    if(lst[i] % 2 ==0):\n",
    "        counter_even=counter_even+1\n",
    "    else:\n",
    "        counter_odd=counter_odd+1\n",
    "print(\"number of even numbers in list : \" , counter_even)\n",
    "print(\"number of even numbers in list : \" , counter_odd)"
   ]
  },
  {
   "cell_type": "markdown",
   "metadata": {},
   "source": [
    "## 4. Write a Python program to find numbers between 100 and 400 (both included) where each digit of a number is an even number. The numbers obtained should be printed in a comma-separated sequence."
   ]
  },
  {
   "cell_type": "code",
   "execution_count": 55,
   "metadata": {},
   "outputs": [
    {
     "name": "stdout",
     "output_type": "stream",
     "text": [
      "200,202,204,206,208,220,222,224,226,228,240,242,244,246,248,260,262,264,266,268,280,282,284,286,288,400\n"
     ]
    }
   ],
   "source": [
    "lst1=[]\n",
    "for i in range(100,401):\n",
    "    a=str(i)\n",
    "    if (int(a[0])%2==0) & (int(a[1])%2==0) & (int(a[2])%2==0):\n",
    "        lst1.append(a)\n",
    "print(\",\".join(lst1))\n",
    "\n"
   ]
  },
  {
   "cell_type": "markdown",
   "metadata": {},
   "source": [
    "## 5. Write a Python program to calculate a dog's age in dog's years. Go to the editor\n",
    "Note: For the first two years, a dog year is equal to 10.5 human years. After that, each dog year equals 4 human years."
   ]
  },
  {
   "cell_type": "code",
   "execution_count": 69,
   "metadata": {},
   "outputs": [
    {
     "name": "stdout",
     "output_type": "stream",
     "text": [
      "enter dog's age :20\n",
      "dog's age eqivalent human age :  93\n"
     ]
    }
   ],
   "source": [
    "c=input(\"enter dog's age :\")\n",
    "a=int(c)\n",
    "if(a <=2):\n",
    "    b=( a*10.5 )\n",
    "else:\n",
    "    b= 21 + ((a-2)*4) \n",
    "print(\"dog's age eqivalent human age : \", b )"
   ]
  },
  {
   "cell_type": "markdown",
   "metadata": {},
   "source": [
    "## 6. Write a Python function to find the Max of three numbers."
   ]
  },
  {
   "cell_type": "code",
   "execution_count": 87,
   "metadata": {},
   "outputs": [
    {
     "name": "stdout",
     "output_type": "stream",
     "text": [
      "enter three numbers with space separated :1 2 3\n",
      "max number :  3\n"
     ]
    }
   ],
   "source": [
    "a= input(\"enter three numbers with space separated :\") \n",
    "lst=a.split()\n",
    "tup=tuple(lst)\n",
    "print(\"max number : \", max(tup) )\n",
    "  \n"
   ]
  },
  {
   "cell_type": "markdown",
   "metadata": {},
   "source": [
    "## 7. Write a Python function that takes a number as a parameter and check the number is prime or not."
   ]
  },
  {
   "cell_type": "code",
   "execution_count": 132,
   "metadata": {},
   "outputs": [
    {
     "name": "stdout",
     "output_type": "stream",
     "text": [
      "7 is a prime number\n"
     ]
    }
   ],
   "source": [
    "def prime_or_not(a):\n",
    "    n=int(a)\n",
    "    if n > 1:\n",
    "   # check for factors\n",
    "        for i in range(2,n+1):\n",
    "            if((n!=i) & (n%i == 0)):\n",
    "                print(n,\"is not a prime number\")\n",
    "                print(i,\"times\",n//i,\"is\",n)\n",
    "                break\n",
    "            elif(n==i):\n",
    "                print(n,\"is a prime number\")\n",
    "                \n",
    "    else:\n",
    "        print(n,\"is not a prime number\")\n",
    "\n",
    "prime_or_not(7)"
   ]
  },
  {
   "cell_type": "markdown",
   "metadata": {},
   "source": [
    "## 8. Write a Python function that accepts a string and calculate the number of upper case letters and lower case letters. Go to the editor\n"
   ]
  },
  {
   "cell_type": "code",
   "execution_count": 138,
   "metadata": {},
   "outputs": [
    {
     "name": "stdout",
     "output_type": "stream",
     "text": [
      "enter a string : AbCd\n",
      "number of upper case letters in list :  2\n",
      "number of lower case letters in list :  2\n"
     ]
    }
   ],
   "source": [
    "\n",
    "a=input(\"enter a string : \")\n",
    "b= str(a)\n",
    "counter_upper=0\n",
    "counter_lower=0\n",
    "for i in range(0,len(b)):\n",
    "    if( b[i].upper() ==b[i]):\n",
    "        counter_upper=counter_upper+1\n",
    "    else:\n",
    "        counter_lower=counter_lower+1\n",
    "print(\"number of upper case letters in list : \" , counter_upper)\n",
    "print(\"number of lower case letters in list : \" , counter_lower)"
   ]
  },
  {
   "cell_type": "markdown",
   "metadata": {},
   "source": [
    "## 9. Write a Python program to reverse a string. "
   ]
  },
  {
   "cell_type": "code",
   "execution_count": 141,
   "metadata": {},
   "outputs": [
    {
     "name": "stdout",
     "output_type": "stream",
     "text": [
      "enter a string : qwerty\n"
     ]
    },
    {
     "data": {
      "text/plain": [
       "'ytrewq'"
      ]
     },
     "execution_count": 141,
     "metadata": {},
     "output_type": "execute_result"
    }
   ],
   "source": [
    "a=input(\"enter a string : \")\n",
    "b= a[::-1]\n",
    "b"
   ]
  },
  {
   "cell_type": "markdown",
   "metadata": {},
   "source": [
    "## 10. Write a Python program to find  the greatest common divisor (gcd) of two integers."
   ]
  },
  {
   "cell_type": "code",
   "execution_count": 144,
   "metadata": {},
   "outputs": [
    {
     "data": {
      "text/plain": [
       "190"
      ]
     },
     "execution_count": 144,
     "metadata": {},
     "output_type": "execute_result"
    }
   ],
   "source": [
    "def computeGCD(x, y): \n",
    "  \n",
    "    if x > y: \n",
    "        small = y \n",
    "    else: \n",
    "        small = x \n",
    "    for i in range(1, small+1): \n",
    "        if((x % i == 0) and (y % i == 0)): \n",
    "            gcd = i \n",
    "              \n",
    "    return gcd \n",
    "\n",
    "computeGCD(190,380)"
   ]
  }
 ],
 "metadata": {
  "kernelspec": {
   "display_name": "Python 3",
   "language": "python",
   "name": "python3"
  },
  "language_info": {
   "codemirror_mode": {
    "name": "ipython",
    "version": 3
   },
   "file_extension": ".py",
   "mimetype": "text/x-python",
   "name": "python",
   "nbconvert_exporter": "python",
   "pygments_lexer": "ipython3",
   "version": "3.7.6"
  }
 },
 "nbformat": 4,
 "nbformat_minor": 4
}
