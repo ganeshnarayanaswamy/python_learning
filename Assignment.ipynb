{
 "cells": [
  {
   "cell_type": "markdown",
   "metadata": {},
   "source": [
    "### The questions for the exercises are given above the cells and the expected output is given below the cell. Please type the code inserting a new cell below the question because if you run the expected output cell the output would vanish! Happy learning! "
   ]
  },
  {
   "cell_type": "markdown",
   "metadata": {},
   "source": [
    "## Exercise Question 1: Given a list1 copy the list1 to another list2 and remove the element at index 6 and add it to the 2nd position and also, at the end of the list2, finally remove the last element from list 1"
   ]
  },
  {
   "cell_type": "code",
   "execution_count": 24,
   "metadata": {},
   "outputs": [
    {
     "name": "stdout",
     "output_type": "stream",
     "text": [
      "Original list  [34, 54, 67, 89, 11, 43, 94]\n",
      "List After removing element at index 4  [34, 54, 67, 89, 43, 94]\n",
      "List after Adding element at index 2  [34, 54, 11, 67, 89, 43, 94]\n",
      "List after Adding element at last  [34, 54, 11, 67, 89, 43, 94, 11]\n",
      "Removing last element from the original list   [34, 54, 67, 89, 11, 43]\n"
     ]
    }
   ],
   "source": [
    "lstc=[34, 54, 67, 89, 11, 43, 94]\n",
    "lsta=lstc.copy()\n",
    "print(\"Original list \", lstc)\n",
    "b=lsta.pop(4)\n",
    "print(\"List After removing element at index 4 \",lsta)\n",
    "lsta.insert(2,b)\n",
    "print(\"List after Adding element at index 2 \",lsta)\n",
    "lsta.append(b)\n",
    "print(\"List after Adding element at last \",lsta)\n",
    "lstc.pop()\n",
    "print(\"Removing last element from the original list  \",lstc)"
   ]
  },
  {
   "cell_type": "code",
   "execution_count": 2,
   "metadata": {},
   "outputs": [
    {
     "name": "stdout",
     "output_type": "stream",
     "text": [
      "Original list  [34, 54, 67, 89, 11, 43, 94]\n",
      "List After removing element at index 4  [34, 54, 67, 89, 43, 94]\n",
      "List after Adding element at index 2  [34, 54, 11, 67, 89, 43, 94]\n",
      "List after Adding element at last  [34, 54, 11, 67, 89, 43, 94, 11]\n",
      "Removing last element from the original list  [34, 54, 67, 89, 11, 43]\n"
     ]
    }
   ],
   "source": []
  },
  {
   "cell_type": "markdown",
   "metadata": {},
   "source": [
    "## Exercise Question 2: Given a two list of equal size create a list of unique elements from both the lists into a seperate list"
   ]
  },
  {
   "cell_type": "code",
   "execution_count": 29,
   "metadata": {},
   "outputs": [
    {
     "name": "stdout",
     "output_type": "stream",
     "text": [
      "First List   [2, 3, 4, 5, 6, 7, 8]\n",
      "Second List   [4, 9, 16, 25, 36, 49, 64]\n"
     ]
    },
    {
     "data": {
      "text/plain": [
       "[64, 2, 3, 4, 5, 6, 7, 8, 9, 36, 16, 49, 25]"
      ]
     },
     "execution_count": 29,
     "metadata": {},
     "output_type": "execute_result"
    }
   ],
   "source": [
    "a=[2, 3, 4, 5, 6, 7, 8]\n",
    "print(\"First List  \" , a)\n",
    "b=[4, 9, 16, 25, 36, 49, 64]\n",
    "print(\"Second List  \" , b)\n",
    "c=list(set([*a ,*b ]))\n",
    "c"
   ]
  },
  {
   "cell_type": "code",
   "execution_count": 10,
   "metadata": {
    "scrolled": true
   },
   "outputs": [
    {
     "name": "stdout",
     "output_type": "stream",
     "text": [
      "First List  [2, 3, 4, 5, 6, 7, 8]\n",
      "Second List  [4, 9, 16, 25, 36, 49, 64]\n",
      "[64, 2, 3, 4, 5, 6, 7, 8, 9, 36, 16, 49, 25]\n"
     ]
    }
   ],
   "source": []
  },
  {
   "cell_type": "markdown",
   "metadata": {},
   "source": [
    "## Exercise Question 3: Remove duplicate from a list and create a tuple and find the minimum and maximum number (Hint: Try Functions Min() and Max() ) "
   ]
  },
  {
   "cell_type": "code",
   "execution_count": 34,
   "metadata": {},
   "outputs": [
    {
     "name": "stdout",
     "output_type": "stream",
     "text": [
      "Original list  [87, 52, 44, 53, 54, 87, 52, 53]\n",
      "unique list  [44, 52, 53, 54, 87]\n",
      "tuple   (44, 52, 53, 54, 87)\n",
      "Minimum number is:  44\n",
      "Maximum number is:  87\n"
     ]
    }
   ],
   "source": [
    "a= [87, 52, 44, 53, 54, 87, 52, 53]\n",
    "print(\"Original list \" , a)\n",
    "b= list(set(a))\n",
    "print(\"unique list \",b)\n",
    "c=tuple(b)\n",
    "print(\"tuple  \",c)\n",
    "print(\"Minimum number is: \",min(c))\n",
    "print(\"Maximum number is: \",max(c))"
   ]
  },
  {
   "cell_type": "code",
   "execution_count": 11,
   "metadata": {},
   "outputs": [
    {
     "name": "stdout",
     "output_type": "stream",
     "text": [
      "Original list [87, 52, 44, 53, 54, 87, 52, 53]\n",
      "unique list [44, 52, 53, 54, 87]\n",
      "tuple  (44, 52, 53, 54, 87)\n",
      "Minimum number is:  44\n",
      "Maximum number is:  87\n"
     ]
    }
   ],
   "source": []
  },
  {
   "cell_type": "markdown",
   "metadata": {},
   "source": [
    "## Exercise Question 4: Display the each word in the string Count the number of words in a string and display it (Including the white spaces) "
   ]
  },
  {
   "cell_type": "code",
   "execution_count": 38,
   "metadata": {},
   "outputs": [
    {
     "name": "stdout",
     "output_type": "stream",
     "text": [
      "The sample string:  Welcome to Python\n",
      "Printing each words seperately:  W e l c o m e   t o   P y t h o n\n",
      "The Length of the string  17\n"
     ]
    }
   ],
   "source": [
    "#Printing each words seperately \n",
    "a = \"Welcome to Python\"\n",
    "print(\"The sample string: \",a)\n",
    "print(\"Printing each words seperately: \",*a)\n",
    "print(\"The Length of the string \", len(a))"
   ]
  },
  {
   "cell_type": "code",
   "execution_count": 18,
   "metadata": {},
   "outputs": [
    {
     "name": "stdout",
     "output_type": "stream",
     "text": [
      "The sample string: Welcome to Python\n",
      "Printing each words seperately:  W e l c o m e   t o   P y t h o n\n",
      "The Length of the string 17\n"
     ]
    }
   ],
   "source": []
  },
  {
   "cell_type": "markdown",
   "metadata": {},
   "source": [
    "##  Exercise Question 5: Write a Python program to access dictionary keys element by index. i.e. Use indexing methods to print the first key"
   ]
  },
  {
   "cell_type": "code",
   "execution_count": 48,
   "metadata": {},
   "outputs": [
    {
     "name": "stdout",
     "output_type": "stream",
     "text": [
      "The dictionary is:  {'physics': 80, 'math': 90, 'chemistry': 86}\n",
      "The key element accesed by index:  physics\n"
     ]
    }
   ],
   "source": [
    "a= {'physics': 80, 'math': 90, 'chemistry': 86}\n",
    "print(\"The dictionary is: \",a)\n",
    "b=list(a)\n",
    "print(\"The key element accesed by index: \",b[0])"
   ]
  },
  {
   "cell_type": "code",
   "execution_count": 27,
   "metadata": {},
   "outputs": [
    {
     "name": "stdout",
     "output_type": "stream",
     "text": [
      "The dictionary is:  {'physics': 80, 'math': 90, 'chemistry': 86}\n",
      "The key element accesed by index:  physics\n"
     ]
    }
   ],
   "source": []
  }
 ],
 "metadata": {
  "kernelspec": {
   "display_name": "Python 3",
   "language": "python",
   "name": "python3"
  },
  "language_info": {
   "codemirror_mode": {
    "name": "ipython",
    "version": 3
   },
   "file_extension": ".py",
   "mimetype": "text/x-python",
   "name": "python",
   "nbconvert_exporter": "python",
   "pygments_lexer": "ipython3",
   "version": "3.7.6"
  }
 },
 "nbformat": 4,
 "nbformat_minor": 4
}
